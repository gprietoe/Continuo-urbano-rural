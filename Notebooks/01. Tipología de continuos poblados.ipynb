{
 "cells": [
  {
   "cell_type": "markdown",
   "id": "9fed9457-3f08-446a-b5ab-62afdd508217",
   "metadata": {
    "id": "9fed9457-3f08-446a-b5ab-62afdd508217",
    "tags": []
   },
   "source": [
    "## Script para la construcción de las tipologías de continuos poblados\n",
    "La tipología de continuos poblados necesita los shapes de continuos poblados sin recortar; es decir, donde la áreas de los continuos se **superpongan** unos con otros."
   ]
  },
  {
   "cell_type": "code",
   "execution_count": 2,
   "id": "076b6151",
   "metadata": {
    "id": "076b6151"
   },
   "outputs": [],
   "source": [
    "import geopandas as gpd\n",
    "import os\n",
    "import sys\n",
    "sys.path.append(os.path.abspath('..'))\n",
    "import continuum\n",
    "\n",
    "# import continuum.Continuum"
   ]
  },
  {
   "cell_type": "markdown",
   "id": "39d2b0e0-fa22-408c-8d9b-33de8c32de52",
   "metadata": {
    "id": "39d2b0e0-fa22-408c-8d9b-33de8c32de52"
   },
   "source": [
    "##### Abrimos las bases de datos, toda se encuentran en el mismo sistema de coordenadasa"
   ]
  },
  {
   "cell_type": "code",
   "execution_count": 3,
   "id": "4a3712f5",
   "metadata": {
    "id": "4a3712f5"
   },
   "outputs": [],
   "source": [
    "# Definimos la ruta de los archivos\n",
    "path_d=r\"C:\\Users\\Guillermo\\Desktop/Python\\01. Continuo urbano-rural\"\n",
    "## BD de continuos poblados por densidad\n",
    "np_3=gpd.read_file(path_d+'\\\\02. Results\\\\01_Conglomerado_alta_densidad.shp')\n",
    "np_2=gpd.read_file(path_d+'\\\\02. Results\\\\02_Conglomerado_media_densidad.shp')\n",
    "np_1=gpd.read_file(path_d+'\\\\02. Results\\\\03_Conglomerado_baja_densidad.shp')\n"
   ]
  },
  {
   "cell_type": "markdown",
   "id": "1e8a6c4c",
   "metadata": {
    "id": "1e8a6c4c"
   },
   "source": [
    "## Geo procesamiento\n",
    "- p1: continuos poblados de 0.8 viv/ha que contienen continuos poblados de 3.9 viv ha.\n",
    "- p2: continuos poblados de 0.13 viv/ha que contienen continuos poblados de 3.9 viv ha.\n",
    "- p3: continuos poblados de 0.13 viv/ha que contienen continuos poblados de 0.8 viv ha."
   ]
  },
  {
   "cell_type": "code",
   "execution_count": 4,
   "id": "b851f2ca-9390-4d36-b72b-6d22bd37fb2e",
   "metadata": {},
   "outputs": [
    {
     "name": "stdout",
     "output_type": "stream",
     "text": [
      "Object `spatial_tipology` not found.\n"
     ]
    }
   ],
   "source": [
    "spatial_tipology?"
   ]
  },
  {
   "cell_type": "code",
   "execution_count": 6,
   "id": "28b5c9c6-72b4-4db4-9780-a37092b19591",
   "metadata": {},
   "outputs": [],
   "source": [
    "np_f=continuum.spatial_tipology(np_3, np_2, np_1)\n",
    "np_f.groupby(\"tipology\").size()\n",
    "np_f.to_csv(path_d+'\\\\02. Results\\\\tipology.csv',index=False)"
   ]
  },
  {
   "cell_type": "code",
   "execution_count": 10,
   "id": "efcdf973-1d98-4881-b705-5d6c5b5eb759",
   "metadata": {},
   "outputs": [
    {
     "data": {
      "text/plain": [
       "tipology\n",
       "B0    51014\n",
       "B1      416\n",
       "B2       40\n",
       "D1       81\n",
       "D3       47\n",
       "D4       14\n",
       "dtype: int64"
      ]
     },
     "execution_count": 10,
     "metadata": {},
     "output_type": "execute_result"
    }
   ],
   "source": [
    "np_f.groupby(\"tipology\").size()"
   ]
  }
 ],
 "metadata": {
  "colab": {
   "collapsed_sections": [],
   "name": "03. Tipología de continuos poblados.ipynb",
   "provenance": []
  },
  "kernelspec": {
   "display_name": "Python 3 (ipykernel)",
   "language": "python",
   "name": "python3"
  },
  "language_info": {
   "codemirror_mode": {
    "name": "ipython",
    "version": 3
   },
   "file_extension": ".py",
   "mimetype": "text/x-python",
   "name": "python",
   "nbconvert_exporter": "python",
   "pygments_lexer": "ipython3",
   "version": "3.7.10"
  }
 },
 "nbformat": 4,
 "nbformat_minor": 5
}
