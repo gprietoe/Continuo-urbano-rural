{
 "cells": [
  {
   "cell_type": "markdown",
   "id": "00c8c97d-5716-41b0-97ca-a73ddbbc616f",
   "metadata": {},
   "source": [
    "## Prepare the spatial data\n",
    "For developing the algorithm of continuou urbano-rural we'll use a piece of the actual data. By doing so, we can reduce the amount of time use to operate and develop the first alghorithm version."
   ]
  },
  {
   "cell_type": "markdown",
   "id": "8284d82f-090f-44e1-8a05-941c59ac9741",
   "metadata": {},
   "source": [
    "To this aim, we've decied to use only the data from Cajamarca Region, a Peruvian's region located in the north of the country. To clip the raster we need to use the geometry of the shape of Cajamarca so first at all we're going to open the spatial data from Cajamarca Region for clippling the raster of Building density."
   ]
  },
  {
   "cell_type": "code",
   "execution_count": null,
   "id": "f54ebe45-a0ce-4c4f-a3b1-b879b415f20e",
   "metadata": {},
   "outputs": [],
   "source": [
    "import pandas as pd\n",
    "import geopandas as gpd\n",
    "\n",
    "import numpy as np\n",
    "\n",
    "import os\n",
    "import rasterio as rio ## we open rasterio as rio\n",
    "\n",
    "import matplotlib.pyplot as plt\n",
    "%matplotlib inline"
   ]
  },
  {
   "cell_type": "code",
   "execution_count": null,
   "id": "2f1d219f-5942-448a-bca2-7652699320a4",
   "metadata": {},
   "outputs": [
    {
     "data": {
      "text/plain": [
       "['inei_centros_poblados_2017_edits.shp',\n",
       " 'inei_centros_poblados_2017_edits.dbf',\n",
       " 'inei_centros_poblados_2017_edits.shx',\n",
       " 'inei_centros_poblados_2017_edits.prj',\n",
       " 'DensidadViviendas.tif.aux.xml',\n",
       " 'DensidadViviendas.tif',\n",
       " 'GHS_POP_E2015_GLOBE_R2019A_54009_250_V1_0_10_10',\n",
       " 'JRC_GRID_2018',\n",
       " 'GHS_POP_E2015_GLOBE_R2019A_54009_1K_V1_0_10_10',\n",
       " 'Limites distritales VMGT',\n",
       " 'Limites dep 2017',\n",
       " 'inei_centros_poblados_2017_edits.qix']"
      ]
     },
     "execution_count": 3,
     "metadata": {},
     "output_type": "execute_result"
    }
   ],
   "source": [
    "### Select the path which are located the spatial data. In our case, the data is stored in the cloud service so we use the path\n",
    "### through the our local directories\n",
    "path_g=r'G:\\.shortcut-targets-by-id\\1lo4KTB2LsIKtS4YUkDAhWKPnbZSGVDFI\\Publicación - Pre-PNOICP\\04. Data\\00. Cartografía base'\n",
    "\n",
    "os.listdir(path_g)  ### show the files allocated in the specified folder"
   ]
  },
  {
   "cell_type": "markdown",
   "id": "15486fa3-62b4-4458-87f2-f8b2c7eff696",
   "metadata": {},
   "source": [
    "The spatial data of Peruvian region is stored in the folder \"Limites dep 2017\" in the "
   ]
  },
  {
   "cell_type": "code",
   "execution_count": null,
   "id": "769bdab2-b18e-4bbe-9c74-cdcc24e63882",
   "metadata": {},
   "outputs": [
    {
     "data": {
      "text/plain": [
       "<AxesSubplot:>"
      ]
     },
     "execution_count": 5,
     "metadata": {},
     "output_type": "execute_result"
    },
    {
     "data": {
      "image/png": "[encoded data removed]",
      "text/plain": [
       "<Figure size 432x288 with 1 Axes>"
      ]
     },
     "metadata": {
      "needs_background": "light"
     },
     "output_type": "display_data"
    }
   ],
   "source": [
    "### Read the Peruvian's region using geopandas function read_file\n",
    "dep=gpd.read_file(path_g+'\\\\Limites dep 2017\\\\DEPARTAMENTO.shp')\n",
    "### Create a sub GeoDataFrame only with Cajamarca geometry\n",
    "dep_0=dep[dep.IDDPTO==\"20\"].copy()\n",
    "### show a plot of Cajamarca Region\n",
    "dep_0.plot()"
   ]
  },
  {
   "cell_type": "markdown",
   "id": "866edda8-4b3d-4fd6-87d8-bc652e090a70",
   "metadata": {},
   "source": [
    "#### Clip the Raster\n",
    "Using the polygon of Cajamarca, we're going to clip the raster of Building Density in order to only work with a smaller amount of data. To make this operation we have to be sure that both are in the same Coordinate Reference system (CRS)"
   ]
  },
  {
   "cell_type": "code",
   "execution_count": null,
   "id": "9c467a24-fed0-4324-a238-a3dcbb3d92ef",
   "metadata": {},
   "outputs": [
    {
     "name": "stdout",
     "output_type": "stream",
     "text": [
      "The CRS of the Polygon for Cajamarca Region is:epsg:4326\n"
     ]
    }
   ],
   "source": [
    "### print the CRS of Cajamarca Region\n",
    "print(\"The CRS of the Polygon for Cajamarca Region is:{}\".format(dep_0.crs))\n",
    "print(\"The CRS of the points for Cajamarca's ccpp is:{}\".format(ccpp_0.crs))"
   ]
  },
  {
   "cell_type": "markdown",
   "id": "8859abc6-9e88-4b42-a190-546aa8080191",
   "metadata": {},
   "source": [
    "We've already know that the raster is projected on \"EPSG:32718\", so we must reproject the polygon of Cajamarca to the same coordinate reference system"
   ]
  },
  {
   "cell_type": "code",
   "execution_count": null,
   "id": "d8442c2b-6f08-4e84-9c32-53d480192c29",
   "metadata": {},
   "outputs": [
    {
     "name": "stdout",
     "output_type": "stream",
     "text": [
      "The CRS of the Polygon for Cajamarca Region is:EPSG:32718\n"
     ]
    },
    {
     "data": {
      "text/plain": [
       "<AxesSubplot:>"
      ]
     },
     "execution_count": 195,
     "metadata": {},
     "output_type": "execute_result"
    },
    {
     "data": {
      "image/png": "[encoded data removed]",
      "text/plain": [
       "<Figure size 360x360 with 1 Axes>"
      ]
     },
     "metadata": {
      "needs_background": "light"
     },
     "output_type": "display_data"
    }
   ],
   "source": [
    "dep_0=dep_0.to_crs(\"EPSG:32718\")\n",
    "print(\"The CRS of the Polygon for Cajamarca Region is:{}\".format(dep_0.crs))\n"
   ]
  },
  {
   "cell_type": "code",
   "execution_count": null,
   "id": "8efce5e3-2afd-496e-86c0-a75147c60151",
   "metadata": {},
   "outputs": [],
   "source": [
    "with rxr.open_rasterio(path_b+\"\\\\DensidadViviendas.tif\", masked=True) as des_v:\n",
    "    ## using rasterio function clip and the Cajarmarca's polygon geometry, we create a new raster for Cajamarca Region\n",
    "    clipped = des_v.rio.clip(dep_0.geometry, dep_0.crs, drop=True, from_disk=True)\n",
    "    ## save the clipped raster inside the data base folder in the local machine\n",
    "    clipped.rio.to_raster(r\"C:\\Users\\Guillermo\\Desktop/Python/01. Raster/01. Database/caja_dv_clip.tif\")"
   ]
  },
  {
   "cell_type": "code",
   "execution_count": null,
   "id": "5bb7d20f-d068-461b-849a-9ee569ce53b1",
   "metadata": {},
   "outputs": [],
   "source": []
  },
  {
   "cell_type": "code",
   "execution_count": null,
   "id": "c57f5e46-e538-4eb5-b541-fde9b9294359",
   "metadata": {},
   "outputs": [],
   "source": [
    "### Read the Peruvian's ccpp using geopandas' function read_file\n",
    "ccpp=gpd.read_file(path_g+'\\\\inei_centros_poblados_2017_edits.shp')\n",
    "### Create a sub GeoDataFrame only conteiming Cajamarca's ccpp\n",
    "ccpp_0=ccpp[ccpp.idccpp_17.str[0:2]==\"06\"][['id','idccpp_17','pob_tot17','geometry']].copy()\n",
    "### Reproject the shp to EPSG:32718\n",
    "ccpp_0=ccpp_0.to_crs(\"EPSG:32718\")\n",
    "### Save the data\n",
    "ccpp_0.to_file(r\"C:\\Users\\Guillermo\\Desktop/Python/01. Raster/01. Database/caja_ccpp_edit.shp\")"
   ]
  }
 ],
 "metadata": {
  "kernelspec": {
   "display_name": "Python 3 (ipykernel)",
   "language": "python",
   "name": "python3"
  },
  "language_info": {
   "codemirror_mode": {
    "name": "ipython",
    "version": 3
   },
   "file_extension": ".py",
   "mimetype": "text/x-python",
   "name": "python",
   "nbconvert_exporter": "python",
   "pygments_lexer": "ipython3",
   "version": "3.7.10"
  }
 },
 "nbformat": 4,
 "nbformat_minor": 5
}
