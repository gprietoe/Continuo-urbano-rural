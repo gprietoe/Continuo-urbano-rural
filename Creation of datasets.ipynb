{
 "cells": [
  {
   "cell_type": "markdown",
   "id": "00c8c97d-5716-41b0-97ca-a73ddbbc616f",
   "metadata": {},
   "source": [
    "## Prepare the spatial data\n",
    "For developing the algorithm of continuou urbano-rural we'll use a piece of the actual data. By doing so, we can reduce the amount of time use to operate and develop the first alghorithm version."
   ]
  },
  {
   "cell_type": "markdown",
   "id": "8284d82f-090f-44e1-8a05-941c59ac9741",
   "metadata": {},
   "source": [
    "To aim this, we've decied to only use the data from Cajamarca, La libertad and Lambayeque regions, these are Peruvian's regions located in the north of the country. The algorithm has 4 arguments: 1) the raster files, 2) the shp file, 3) the density value and 4) the min number of population accepted for the new polygon.\n",
    "\n",
    "Because of that, the following script create the first and the second arguments which will be used in the algorithm.\n",
    "\n",
    "we need to clip the raster using the geometries of regions mentioned above and keeping the \"centros poblados\" located in these areas\n"
   ]
  },
  {
   "cell_type": "code",
   "execution_count": 2,
   "id": "f54ebe45-a0ce-4c4f-a3b1-b879b415f20e",
   "metadata": {},
   "outputs": [],
   "source": [
    "import pandas as pd\n",
    "import geopandas as gpd\n",
    "\n",
    "import numpy as np\n",
    "import rasterio as rio \n",
    "import rioxarray as rxr\n",
    "import os\n",
    "\n",
    "import matplotlib.pyplot as plt\n",
    "%matplotlib inline"
   ]
  },
  {
   "cell_type": "code",
   "execution_count": 3,
   "id": "2f1d219f-5942-448a-bca2-7652699320a4",
   "metadata": {},
   "outputs": [
    {
     "data": {
      "text/plain": [
       "['inei_centros_poblados_2017_edits.shp',\n",
       " 'inei_centros_poblados_2017_edits.dbf',\n",
       " 'inei_centros_poblados_2017_edits.shx',\n",
       " 'inei_centros_poblados_2017_edits.prj',\n",
       " 'DensidadViviendas.tif.aux.xml',\n",
       " 'DensidadViviendas.tif',\n",
       " 'GHS_POP_E2015_GLOBE_R2019A_54009_250_V1_0_10_10',\n",
       " 'JRC_GRID_2018',\n",
       " 'GHS_POP_E2015_GLOBE_R2019A_54009_1K_V1_0_10_10',\n",
       " 'Limites distritales VMGT',\n",
       " 'Limites dep 2017',\n",
       " 'inei_centros_poblados_2017_edits.qix']"
      ]
     },
     "execution_count": 3,
     "metadata": {},
     "output_type": "execute_result"
    }
   ],
   "source": [
    "### Difine the path where is located the spatial data. In our case, the data is stored in the cloud service, though we can access it through the local directories using drive's software\n",
    "path_g=r'G:\\.shortcut-targets-by-id\\1lo4KTB2LsIKtS4YUkDAhWKPnbZSGVDFI\\Publicación - Pre-PNOICP\\04. Data\\00. Cartografía base'\n",
    "### show the files allocated in the specified folder\n",
    "os.listdir(path_g)  "
   ]
  },
  {
   "cell_type": "markdown",
   "id": "15486fa3-62b4-4458-87f2-f8b2c7eff696",
   "metadata": {},
   "source": [
    "The spatial data of Peruvian regions is stored in the folder \"Limites dep 2017\" with the name of \"DEPARTAMENTOS\".\n",
    "Also we already know the corresponding INEI's codes for each one as following:\n",
    "- Cajamarca: 06\n",
    "- La Libertad: 13\n",
    "- Lambayeque: 14\n"
   ]
  },
  {
   "cell_type": "code",
   "execution_count": 18,
   "id": "769bdab2-b18e-4bbe-9c74-cdcc24e63882",
   "metadata": {},
   "outputs": [
    {
     "data": {
      "text/plain": [
       "<AxesSubplot:>"
      ]
     },
     "execution_count": 18,
     "metadata": {},
     "output_type": "execute_result"
    },
    {
     "data": {
      "image/png": "[encoded data removed]",
      "text/plain": [
       "<Figure size 360x504 with 1 Axes>"
      ]
     },
     "metadata": {
      "needs_background": "light"
     },
     "output_type": "display_data"
    }
   ],
   "source": [
    "### Read the Peruvian's region using geopandas function read_file\n",
    "dep=gpd.read_file(path_g+'\\\\Limites dep 2017\\\\DEPARTAMENTO.shp')\n",
    "### Create a GeoDataFrame \n",
    "dep_c=dep[(dep.IDDPTO==\"06\")|(dep.IDDPTO==\"13\")|(dep.IDDPTO==\"14\")].copy()\n",
    "### show a plot of the area\n",
    "dep_c.plot(figsize=(5,7),edgecolor='black')"
   ]
  },
  {
   "cell_type": "markdown",
   "id": "866edda8-4b3d-4fd6-87d8-bc652e090a70",
   "metadata": {},
   "source": [
    "#### Clip the Raster\n",
    "Using the polygon of Cajamarca, we're going to clip the raster of Building Density in order to only work with a smaller amount of data. To make this operation we have to be sure that both are in the same Coordinate Reference system (CRS)\n",
    "\n",
    "We've already know that the raster is projected on \"EPSG:32718\", so we must reproject the polygon to the same coordinate reference system before clipping the raster"
   ]
  },
  {
   "cell_type": "code",
   "execution_count": 5,
   "id": "9c467a24-fed0-4324-a238-a3dcbb3d92ef",
   "metadata": {},
   "outputs": [
    {
     "name": "stdout",
     "output_type": "stream",
     "text": [
      "The CRS of the Polygon the three regions is:epsg:4326\n",
      "The CRS of the Polygon the three region is:EPSG:32718\n"
     ]
    }
   ],
   "source": [
    "### print the CRS of the spatial data\n",
    "print(\"The CRS of the Polygon the three regions is:{}\".format(dep_c.crs))\n",
    "### we change the CRS using the function to_crs()\n",
    "dep_c=dep_0.to_crs(\"EPSG:32718\")\n",
    "print(\"The CRS of the Polygon the three region is:{}\".format(dep_c.crs))"
   ]
  },
  {
   "cell_type": "markdown",
   "id": "04e5db48-13ae-4725-9f4b-0ee8bd275aad",
   "metadata": {},
   "source": [
    "Now that have the polygon in the right CRS, we can use it to clip the building density raster. To doing that we'll use the library named rioxarray and the sub function named rio.clip()"
   ]
  },
  {
   "cell_type": "code",
   "execution_count": 14,
   "id": "8efce5e3-2afd-496e-86c0-a75147c60151",
   "metadata": {},
   "outputs": [],
   "source": [
    "with rxr.open_rasterio(path_g+\"\\\\DensidadViviendas.tif\", masked=True) as des_v:\n",
    "    ## using rasterio function clip and the polygons geometry, we create a new raster for Cajamarca Region\n",
    "    clipped = des_v.rio.clip(dep_c.geometry, dep_c.crs, drop=True, from_disk=True)\n",
    "    ## save the clipped raster inside the data base folder in the local machine\n",
    "    clipped.rio.to_raster(r\"C:\\Users\\Guillermo\\Desktop/Python/01. Continuo urbano-rural/01. Dataset/costal_north_region_clip.tif\")"
   ]
  },
  {
   "cell_type": "markdown",
   "id": "af9751b3-4717-4a5d-bd7d-dd5a275ad14f",
   "metadata": {},
   "source": [
    "Finally, we create the shp containing the data of ccpp located inside the working regions. "
   ]
  },
  {
   "cell_type": "code",
   "execution_count": 4,
   "id": "c57f5e46-e538-4eb5-b541-fde9b9294359",
   "metadata": {},
   "outputs": [
    {
     "name": "stdout",
     "output_type": "stream",
     "text": [
      "The points' CRS  for the ccpp is:epsg:32718\n"
     ]
    }
   ],
   "source": [
    "### Read the Peruvian's ccpp using geopandas' function read_file\n",
    "ccpp=gpd.read_file(path_g+'\\\\inei_centros_poblados_2017_edits.shp')\n",
    "### Create a sub GeoDataFrame only conteiming Cajamarca's ccpp\n",
    "ccpp_0=ccpp[(ccpp.idccpp_17.str[0:2]==\"06\")|\n",
    "           (ccpp.idccpp_17.str[0:2]==\"13\")|\n",
    "           (ccpp.idccpp_17.str[0:2]==\"14\")][['id','idccpp_17','pob_tot17','geometry']].copy()\n",
    "\n",
    "print(\"The points' CRS  for the ccpp is:{}\".format(ccpp_0.crs))\n",
    "### Reproject the shp to EPSG:32718\n",
    "ccpp_0=ccpp_0.to_crs(\"EPSG:32718\")\n",
    "### Save the data\n",
    "ccpp_0.to_file(r\"C:\\Users\\Guillermo\\Desktop/Python/01. Continuo urbano-rural/01. Dataset/costal_north_ccpp_edit.shp\")"
   ]
  },
  {
   "cell_type": "code",
   "execution_count": null,
   "id": "734ef9cf-8404-4a97-bc17-82f4730c7977",
   "metadata": {},
   "outputs": [],
   "source": []
  }
 ],
 "metadata": {
  "kernelspec": {
   "display_name": "Python 3 (ipykernel)",
   "language": "python",
   "name": "python3"
  },
  "language_info": {
   "codemirror_mode": {
    "name": "ipython",
    "version": 3
   },
   "file_extension": ".py",
   "mimetype": "text/x-python",
   "name": "python",
   "nbconvert_exporter": "python",
   "pygments_lexer": "ipython3",
   "version": "3.7.10"
  }
 },
 "nbformat": 4,
 "nbformat_minor": 5
}
