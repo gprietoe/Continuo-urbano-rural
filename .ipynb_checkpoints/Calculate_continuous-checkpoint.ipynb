{
 "cells": [
  {
   "cell_type": "code",
   "execution_count": 5,
   "id": "4a057cfb-15a9-4b4f-9f1a-9472c51f3b1f",
   "metadata": {},
   "outputs": [],
   "source": [
    "import pandas as pd\n",
    "import geopandas as gpd\n",
    "\n",
    "from Continuum import create_continuum\n",
    "from Continuum import open_raster_rio\n",
    "\n",
    "import matplotlib.pyplot as plt\n",
    "%matplotlib inline\n",
    "\n",
    "import time"
   ]
  },
  {
   "cell_type": "markdown",
   "id": "a80fc14e-ff24-4ad8-9006-b475340fbb7a",
   "metadata": {},
   "source": [
    "#### Open the ccpp's shape and keeping the needed variables"
   ]
  },
  {
   "cell_type": "code",
   "execution_count": 6,
   "id": "6fda6873-229c-4871-9882-53a6bf740170",
   "metadata": {},
   "outputs": [
    {
     "name": "stdout",
     "output_type": "stream",
     "text": [
      "The points' CRS  for the ccpp is:epsg:32718\n"
     ]
    }
   ],
   "source": [
    "## Define the general path\n",
    "path_d=r\"C:\\Users\\Guillermo\\Desktop/Python\\01. Continuo urbano-rural\"\n",
    "\n",
    "### Open the shape using geopandas\n",
    "ccpp=gpd.read_file(path_d+'\\\\01. Dataset\\\\inei_centros_poblados_2017_edits.zip')\n",
    "### Create a sub GeoDataFrame\n",
    "ccpp=ccpp[['id','idccpp_17','pob_tot17','geometry']].copy()\n",
    "### Reproject the shp to EPSG:32718\n",
    "print(\"The points' CRS  for the ccpp is:{}\".format(ccpp.crs))\n",
    "ccpp=ccpp.to_crs(\"EPSG:32718\")"
   ]
  },
  {
   "cell_type": "markdown",
   "id": "5c67194a-f94d-4fab-b133-d56a9f93d6c1",
   "metadata": {},
   "source": [
    "#### Open the raster's values allocated in the band 1 and the raster's affine properties"
   ]
  },
  {
   "cell_type": "code",
   "execution_count": 7,
   "id": "d742f978-8511-415b-9e3e-8ded0fd3ae53",
   "metadata": {},
   "outputs": [],
   "source": [
    "### we define the right path\n",
    "path_density=(path_d+\"\\\\01. Dataset\\\\DensidadViviendas.tif\")\n",
    "band_1, aff_1=open_raster_rio(path_density)"
   ]
  },
  {
   "cell_type": "markdown",
   "id": "aa97d365-c25b-4a31-a71a-277a5d54e60a",
   "metadata": {},
   "source": [
    "#### Call the function create_continuum for the high, medium and low density"
   ]
  },
  {
   "cell_type": "code",
   "execution_count": 8,
   "id": "c8070a65-910f-414b-aab1-74335d0895a9",
   "metadata": {
    "tags": []
   },
   "outputs": [
    {
     "data": {
      "text/plain": [
       "\u001b[1;31mSignature:\u001b[0m\n",
       "\u001b[0mcreate_continuum\u001b[0m\u001b[1;33m(\u001b[0m\u001b[1;33m\n",
       "\u001b[0m    \u001b[0mdensity_val_3\u001b[0m\u001b[1;33m,\u001b[0m\u001b[1;33m\n",
       "\u001b[0m    \u001b[0mdensity_tif\u001b[0m\u001b[1;33m=\u001b[0m\u001b[1;32mNone\u001b[0m\u001b[1;33m,\u001b[0m\u001b[1;33m\n",
       "\u001b[0m    \u001b[0mband\u001b[0m\u001b[1;33m=\u001b[0m\u001b[1;32mNone\u001b[0m\u001b[1;33m,\u001b[0m\u001b[1;33m\n",
       "\u001b[0m    \u001b[0maffine\u001b[0m\u001b[1;33m=\u001b[0m\u001b[1;32mNone\u001b[0m\u001b[1;33m,\u001b[0m\u001b[1;33m\n",
       "\u001b[0m    \u001b[0mccpp_shp\u001b[0m\u001b[1;33m=\u001b[0m\u001b[1;32mNone\u001b[0m\u001b[1;33m,\u001b[0m\u001b[1;33m\n",
       "\u001b[0m    \u001b[0mpob_minima\u001b[0m\u001b[1;33m=\u001b[0m\u001b[1;32mNone\u001b[0m\u001b[1;33m,\u001b[0m\u001b[1;33m\n",
       "\u001b[0m    \u001b[0mno_holes\u001b[0m\u001b[1;33m=\u001b[0m\u001b[1;32mFalse\u001b[0m\u001b[1;33m,\u001b[0m\u001b[1;33m\n",
       "\u001b[0m    \u001b[0mcrs_EPSG\u001b[0m\u001b[1;33m=\u001b[0m\u001b[1;36m32718\u001b[0m\u001b[1;33m,\u001b[0m\u001b[1;33m\n",
       "\u001b[0m    \u001b[0mpixel_con\u001b[0m\u001b[1;33m=\u001b[0m\u001b[1;36m4\u001b[0m\u001b[1;33m,\u001b[0m\u001b[1;33m\n",
       "\u001b[0m\u001b[1;33m)\u001b[0m\u001b[1;33m\u001b[0m\u001b[1;33m\u001b[0m\u001b[0m\n",
       "\u001b[1;31mDocstring:\u001b[0m\n",
       "- density_val_3: It's the density's value that will be used tu create the urban-rural continuoun\n",
       "- density_tif: optinal - it's the raster's path to create the urban-rural continuoun\n",
       "- band: optional - if it's provided, the function use the specified band instead of open rasterio\n",
       "- affain: optional - if it's provided the function use the specified raster's affain \n",
       "- ccpp_shp: opional - it's the ccpp's shape that include population data for each ccpp\n",
       "- pob_minima: opional - it's the minimun value of population accepted for creating the urban-rural continoun\n",
       "- no_holes: opional - If it's True the retrived shapes haven't have any holes in their interior\n",
       "- crs_EPSG: optional - Default = EPSG:32718. It's the projection value used to project the new shape\n",
       "- pixel_con: optional - Default = 4. It's the connectivity value uses to connect each pixel \n",
       "\u001b[1;31mFile:\u001b[0m      c:\\users\\guillermo\\desktop\\python\\01. continuo urbano-rural\\continuum.py\n",
       "\u001b[1;31mType:\u001b[0m      function\n"
      ]
     },
     "metadata": {},
     "output_type": "display_data"
    }
   ],
   "source": [
    "create_continuum?"
   ]
  },
  {
   "cell_type": "code",
   "execution_count": 9,
   "id": "20ad024f-97d2-46eb-bd28-3d8f25559160",
   "metadata": {},
   "outputs": [
    {
     "name": "stdout",
     "output_type": "stream",
     "text": [
      "the time to execute the three continuons is:649.1656708717346\n"
     ]
    }
   ],
   "source": [
    "start= time.time()\n",
    "### Setting the values for each density's cluster\n",
    "density_values=[3.9, 0.8, 0.13]\n",
    "population_values=[50000, 5000]\n",
    "\n",
    "## Calculate the high, medium and low density's cluster\n",
    "high=create_continuum(density_values[0], band=band_1, affine=aff_1, ccpp_shp=ccpp, pob_minima=population_values[0], no_holes=True)\n",
    "medium=create_continuum(density_values[1],band=band_1, affine=aff_1,ccpp_shp=ccpp, pob_minima=population_values[1], no_holes=True)\n",
    "low=create_continuum(density_values[2], band=band_1, affine=aff_1)\n",
    "\n",
    "end= time.time()\n",
    "print(\"the time to execute the three continuons is:{}\".format(end-start))"
   ]
  },
  {
   "cell_type": "markdown",
   "id": "d8128e9b-c2c6-4611-b27f-009b8c066b17",
   "metadata": {
    "tags": []
   },
   "source": [
    "#### Delete polygons which area is equal or less than 1 ha."
   ]
  },
  {
   "cell_type": "code",
   "execution_count": 10,
   "id": "c92b404f-11c3-4b2d-8daf-5bb91d2742ff",
   "metadata": {},
   "outputs": [],
   "source": [
    "## Calculate the polygon's area using geopandas\n",
    "low['area']=low.area\n",
    "low_ha=low[low.area>10000].copy()"
   ]
  },
  {
   "cell_type": "code",
   "execution_count": 61,
   "id": "1bc1cef7-1703-44b0-b852-66fd2a2348f0",
   "metadata": {},
   "outputs": [],
   "source": [
    "## Create a new id\n",
    "high=high.assign(id_n=high.sort_values(\"pob_tot17\",ascending=False).reset_index(drop=True).index+1)\n",
    "medium=medium.assign(id_n=medium.sort_values(\"pob_tot17\",ascending=False).reset_index(drop=True).index+1)\n",
    "low_ha=low_ha.assign(id_n=low_ha.sort_values(\"area\",ascending=False).reset_index(drop=True).index+1)\n",
    "    \n",
    "    \n",
    "## Save the shapes\n",
    "high.to_file(path_d+\"\\\\02. Continuos poblados_res\\\\01_Conglomerado_alta_densidad.shp\")\n",
    "medium.to_file(path_d+\"\\\\02. Continuos poblados_res\\\\02_Conglomerado_media_densidad.shp\")\n",
    "low_ha.to_file(path_d+\"\\\\02. Continuos poblados_res\\\\03_Conglomerado_baja_densidad.shp\")"
   ]
  }
 ],
 "metadata": {
  "kernelspec": {
   "display_name": "Python 3 (ipykernel)",
   "language": "python",
   "name": "python3"
  },
  "language_info": {
   "codemirror_mode": {
    "name": "ipython",
    "version": 3
   },
   "file_extension": ".py",
   "mimetype": "text/x-python",
   "name": "python",
   "nbconvert_exporter": "python",
   "pygments_lexer": "ipython3",
   "version": "3.7.10"
  }
 },
 "nbformat": 4,
 "nbformat_minor": 5
}
