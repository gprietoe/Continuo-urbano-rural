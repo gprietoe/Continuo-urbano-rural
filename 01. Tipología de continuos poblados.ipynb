{
 "cells": [
  {
   "cell_type": "markdown",
   "id": "9fed9457-3f08-446a-b5ab-62afdd508217",
   "metadata": {
    "id": "9fed9457-3f08-446a-b5ab-62afdd508217",
    "tags": []
   },
   "source": [
    "## Script para la construcción de las tipologías de continuos poblados\n",
    "La tipología de continuos poblados necesita los shapes de continuos poblados sin recortar; es decir, donde la áreas de los continuos se **superpongan** unos con otros."
   ]
  },
  {
   "cell_type": "code",
   "execution_count": 6,
   "id": "076b6151",
   "metadata": {
    "id": "076b6151"
   },
   "outputs": [],
   "source": [
    "import geopandas as gpd \n",
    "from Continuum_t import spatial_tipology\n",
    "from Continuum_t import agg_gdf"
   ]
  },
  {
   "cell_type": "markdown",
   "id": "39d2b0e0-fa22-408c-8d9b-33de8c32de52",
   "metadata": {
    "id": "39d2b0e0-fa22-408c-8d9b-33de8c32de52"
   },
   "source": [
    "##### Abrimos las bases de datos, toda se encuentran en el mismo sistema de coordenadasa"
   ]
  },
  {
   "cell_type": "code",
   "execution_count": 7,
   "id": "4a3712f5",
   "metadata": {
    "id": "4a3712f5"
   },
   "outputs": [],
   "source": [
    "# Definimos la ruta de los archivos\n",
    "path_d=r\"C:\\Users\\Guillermo\\Desktop/Python\\01. Continuo urbano-rural\"\n",
    "## BD de continuos poblados por densidad\n",
    "np_3=gpd.read_file(path_d+'\\\\02. Results\\\\01_Conglomerado_alta_densidad.shp')\n",
    "np_2=gpd.read_file(path_d+'\\\\02. Results\\\\02_Conglomerado_media_densidad.shp')\n",
    "np_1=gpd.read_file(path_d+'\\\\02. Results\\\\03_Conglomerado_baja_densidad.shp')\n"
   ]
  },
  {
   "cell_type": "markdown",
   "id": "1e8a6c4c",
   "metadata": {
    "id": "1e8a6c4c"
   },
   "source": [
    "## Geo procesamiento\n",
    "- p1: continuos poblados de 0.8 viv/ha que contienen continuos poblados de 3.9 viv ha.\n",
    "- p2: continuos poblados de 0.13 viv/ha que contienen continuos poblados de 3.9 viv ha.\n",
    "- p3: continuos poblados de 0.13 viv/ha que contienen continuos poblados de 0.8 viv ha."
   ]
  },
  {
   "cell_type": "code",
   "execution_count": 3,
   "id": "b851f2ca-9390-4d36-b72b-6d22bd37fb2e",
   "metadata": {},
   "outputs": [
    {
     "data": {
      "text/plain": [
       "\u001b[1;31mSignature:\u001b[0m \u001b[0mspatial_tipology\u001b[0m\u001b[1;33m(\u001b[0m\u001b[0mnp_1\u001b[0m\u001b[1;33m,\u001b[0m \u001b[0mnp_2\u001b[0m\u001b[1;33m,\u001b[0m \u001b[0mnp_3\u001b[0m\u001b[1;33m,\u001b[0m \u001b[0mgeometry\u001b[0m\u001b[1;33m=\u001b[0m\u001b[1;34m'geometry'\u001b[0m\u001b[1;33m,\u001b[0m \u001b[0mid_gdf\u001b[0m\u001b[1;33m=\u001b[0m\u001b[1;34m'id_n'\u001b[0m\u001b[1;33m)\u001b[0m\u001b[1;33m\u001b[0m\u001b[1;33m\u001b[0m\u001b[0m\n",
       "\u001b[1;31mDocstring:\u001b[0m\n",
       "Returns a DataFrame containing the tipology for each density cluster \n",
       "Parameters\n",
       "----------\n",
       "np_1: High density GeoDataFrame\n",
       "np_2: Medium density GeoDataFrame\n",
       "np_3: Low density GeoDataFrame\n",
       "geometry: optional - Geometry's name\n",
       "id_gdf: optional - Identification value\n",
       "\n",
       "Notes\n",
       "-----\n",
       "To achive the right results it's so important keeping the suggestion GeoDataFrame orden: High density cluster (np_1), Medium density cluster (np_2) and low density cluster (np_3)\n",
       "\u001b[1;31mFile:\u001b[0m      c:\\users\\guillermo\\desktop\\python\\01. continuo urbano-rural\\continuum_t.py\n",
       "\u001b[1;31mType:\u001b[0m      function\n"
      ]
     },
     "metadata": {},
     "output_type": "display_data"
    }
   ],
   "source": [
    "spatial_tipology?"
   ]
  },
  {
   "cell_type": "code",
   "execution_count": 8,
   "id": "28b5c9c6-72b4-4db4-9780-a37092b19591",
   "metadata": {},
   "outputs": [],
   "source": [
    "np_f=spatial_tipology(np_1, np_2, np_3)\n",
    "np_f.to_csv(path_d+'\\\\02. Results\\\\tipology.csv',index=False)"
   ]
  }
 ],
 "metadata": {
  "colab": {
   "collapsed_sections": [],
   "name": "03. Tipología de continuos poblados.ipynb",
   "provenance": []
  },
  "kernelspec": {
   "display_name": "Python 3 (ipykernel)",
   "language": "python",
   "name": "python3"
  },
  "language_info": {
   "codemirror_mode": {
    "name": "ipython",
    "version": 3
   },
   "file_extension": ".py",
   "mimetype": "text/x-python",
   "name": "python",
   "nbconvert_exporter": "python",
   "pygments_lexer": "ipython3",
   "version": "3.7.10"
  }
 },
 "nbformat": 4,
 "nbformat_minor": 5
}
