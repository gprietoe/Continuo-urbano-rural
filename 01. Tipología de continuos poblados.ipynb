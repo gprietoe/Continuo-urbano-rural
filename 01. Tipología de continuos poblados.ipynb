{
 "cells": [
  {
   "cell_type": "markdown",
   "id": "9fed9457-3f08-446a-b5ab-62afdd508217",
   "metadata": {
    "id": "9fed9457-3f08-446a-b5ab-62afdd508217"
   },
   "source": [
    "## Script para la construcción de las tipologías de continuos poblados\n",
    "La tipología de continuos poblados necesita los shapes de continuos poblados sin recortar; es decir, donde la áreas de los continuos se **superpongan** unos con otros."
   ]
  },
  {
   "cell_type": "code",
   "execution_count": 1,
   "id": "076b6151",
   "metadata": {
    "id": "076b6151"
   },
   "outputs": [],
   "source": [
    "import pandas as pd\n",
    "import numpy as np\n",
    "import geopandas as gpd \n",
    "                        \n",
    "import os"
   ]
  },
  {
   "cell_type": "markdown",
   "id": "39d2b0e0-fa22-408c-8d9b-33de8c32de52",
   "metadata": {
    "id": "39d2b0e0-fa22-408c-8d9b-33de8c32de52"
   },
   "source": [
    "##### Abrimos las bases de datos, toda se encuentran en el mismo sistema de coordenadasa"
   ]
  },
  {
   "cell_type": "code",
   "execution_count": 3,
   "id": "4a3712f5",
   "metadata": {
    "id": "4a3712f5"
   },
   "outputs": [],
   "source": [
    "# Definimos la ruta de los archivos\n",
    "path_d=r\"C:\\Users\\Guillermo\\Desktop/Python\\01. Continuo urbano-rural\"\n",
    "## BD de continuos poblados por densidad\n",
    "np_1=gpd.read_file(o+'\\\\02. Continuos poblados\\\\01_Conglomerado_alta_densidad.shp')\n",
    "np_2=gpd.read_file(o+'\\\\02. Continuos poblados\\\\02_Conglomerado_media_densidad_sin_recortar.shp')\n",
    "np_3=gpd.read_file(o+'\\\\02. Continuos poblados\\\\03_Conglomerado_baja_densidad_sin_recortar.shp')\n",
    "## Verificamos el sistema de coordenadas\n",
    "print(np_1.crs)\n",
    "print(np_2.crs)\n",
    "print(np_3.crs)"
   ]
  },
  {
   "cell_type": "code",
   "execution_count": 5,
   "id": "80c8cc89",
   "metadata": {
    "id": "80c8cc89"
   },
   "outputs": [],
   "source": [
    "## Seleccionamos solo las variables que nos interesan\n",
    "np_1r=np_1[np_1.id_n.notna()][['id_n','geometry']].copy().rename({'id_n':'idnp'}, axis=1, inplace=True)\n",
    "np_2r=np_2[np_2.id_n.notna()][['id_n','geometry']].copy().rename({'id_n':'idnp'}, axis=1, inplace=True)\n",
    "np_3r=np_3[np_3.id_n.notna()][['id_n','geometry']].copy().rename({'id_n':'idnp'}, axis=1, inplace=True)\n",
    "\n",
    "# ##Renombramos la variable de identificación del continuo poblado\n",
    "# np_1r.rename({'id_n':'idnp'}, axis=1, inplace=True)\n",
    "# np_2r.rename({'id_n':'idnp'}, axis=1, inplace=True)\n",
    "# np_3r.rename({'id_n':'idnp'}, axis=1, inplace=True)\n",
    "\n",
    "## creamos una BD que solo contenga la variable de idnp_zona\n",
    "# np_f_r=np_f[['id_contpb']].copy()\n",
    "# np_f_r['zona']=np_f_r.id_contpb.str[:1]"
   ]
  },
  {
   "cell_type": "code",
   "execution_count": 6,
   "id": "23e1d9cc-83f0-4ea3-8476-c745dc42c2b5",
   "metadata": {},
   "outputs": [
    {
     "data": {
      "text/html": [
       "<div>\n",
       "<style scoped>\n",
       "    .dataframe tbody tr th:only-of-type {\n",
       "        vertical-align: middle;\n",
       "    }\n",
       "\n",
       "    .dataframe tbody tr th {\n",
       "        vertical-align: top;\n",
       "    }\n",
       "\n",
       "    .dataframe thead th {\n",
       "        text-align: right;\n",
       "    }\n",
       "</style>\n",
       "<table border=\"1\" class=\"dataframe\">\n",
       "  <thead>\n",
       "    <tr style=\"text-align: right;\">\n",
       "      <th></th>\n",
       "      <th>idnp</th>\n",
       "      <th>geometry</th>\n",
       "    </tr>\n",
       "  </thead>\n",
       "  <tbody>\n",
       "    <tr>\n",
       "      <th>0</th>\n",
       "      <td>21.0</td>\n",
       "      <td>POLYGON ((1000627.900 7992627.000, 1000602.900...</td>\n",
       "    </tr>\n",
       "    <tr>\n",
       "      <th>1</th>\n",
       "      <td>54.0</td>\n",
       "      <td>POLYGON ((889027.900 8043377.000, 889002.900 8...</td>\n",
       "    </tr>\n",
       "    <tr>\n",
       "      <th>2</th>\n",
       "      <td>103.0</td>\n",
       "      <td>POLYGON ((931427.900 8091977.000, 931402.900 8...</td>\n",
       "    </tr>\n",
       "    <tr>\n",
       "      <th>3</th>\n",
       "      <td>246.0</td>\n",
       "      <td>POLYGON ((871427.900 8174977.000, 871402.900 8...</td>\n",
       "    </tr>\n",
       "    <tr>\n",
       "      <th>4</th>\n",
       "      <td>435.0</td>\n",
       "      <td>POLYGON ((1035277.900 8236877.000, 1035252.900...</td>\n",
       "    </tr>\n",
       "  </tbody>\n",
       "</table>\n",
       "</div>"
      ],
      "text/plain": [
       "    idnp                                           geometry\n",
       "0   21.0  POLYGON ((1000627.900 7992627.000, 1000602.900...\n",
       "1   54.0  POLYGON ((889027.900 8043377.000, 889002.900 8...\n",
       "2  103.0  POLYGON ((931427.900 8091977.000, 931402.900 8...\n",
       "3  246.0  POLYGON ((871427.900 8174977.000, 871402.900 8...\n",
       "4  435.0  POLYGON ((1035277.900 8236877.000, 1035252.900..."
      ]
     },
     "execution_count": 6,
     "metadata": {},
     "output_type": "execute_result"
    }
   ],
   "source": [
    "np_3r.head()"
   ]
  },
  {
   "cell_type": "markdown",
   "id": "d3183474",
   "metadata": {
    "id": "d3183474"
   },
   "source": [
    "##### Creamos la lista de continuos poblados que desaparecen al no tener población\n",
    "Este paso solo aplica si la tipología se realiza para los continuo poblados con población. Este paso se debe omitir si se desea tener una tipología solo para los polígonos de las tres densidades independientemente de que dichos polígonos cuenten con población según el CPV 2017"
   ]
  },
  {
   "cell_type": "code",
   "execution_count": 7,
   "id": "3e338666",
   "metadata": {
    "id": "3e338666"
   },
   "outputs": [
    {
     "ename": "NameError",
     "evalue": "name 'np_f_r' is not defined",
     "output_type": "error",
     "traceback": [
      "\u001b[1;31m---------------------------------------------------------------------------\u001b[0m",
      "\u001b[1;31mNameError\u001b[0m                                 Traceback (most recent call last)",
      "\u001b[1;32mC:\\Users\\Public\\Documents\\Wondershare\\CreatorTemp/ipykernel_11632/1869734946.py\u001b[0m in \u001b[0;36m<module>\u001b[1;34m\u001b[0m\n\u001b[0;32m      1\u001b[0m \u001b[1;31m### Cruzamos la BD originales con la base limpia para obtener los conti\u001b[0m\u001b[1;33m\u001b[0m\u001b[1;33m\u001b[0m\u001b[1;33m\u001b[0m\u001b[0m\n\u001b[1;32m----> 2\u001b[1;33m \u001b[0mnp_3r1\u001b[0m\u001b[1;33m=\u001b[0m\u001b[0mnp_3r\u001b[0m\u001b[1;33m.\u001b[0m\u001b[0mmerge\u001b[0m\u001b[1;33m(\u001b[0m\u001b[0mnp_f_r\u001b[0m\u001b[1;33m[\u001b[0m\u001b[0mnp_f_r\u001b[0m\u001b[1;33m.\u001b[0m\u001b[0mzona\u001b[0m\u001b[1;33m==\u001b[0m\u001b[1;34m'A'\u001b[0m\u001b[1;33m]\u001b[0m\u001b[1;33m,\u001b[0m \u001b[0mleft_on\u001b[0m\u001b[1;33m=\u001b[0m\u001b[1;34m'idnp'\u001b[0m\u001b[1;33m,\u001b[0m \u001b[0mright_on\u001b[0m\u001b[1;33m=\u001b[0m\u001b[1;34m'id_contpb'\u001b[0m\u001b[1;33m,\u001b[0m\u001b[0mhow\u001b[0m\u001b[1;33m=\u001b[0m\u001b[1;34m'outer'\u001b[0m\u001b[1;33m,\u001b[0m  \u001b[0mvalidate\u001b[0m\u001b[1;33m=\u001b[0m\u001b[1;34m'1:1'\u001b[0m\u001b[1;33m,\u001b[0m \u001b[0mindicator\u001b[0m\u001b[1;33m=\u001b[0m\u001b[1;32mTrue\u001b[0m\u001b[1;33m)\u001b[0m\u001b[1;33m\u001b[0m\u001b[1;33m\u001b[0m\u001b[0m\n\u001b[0m\u001b[0;32m      3\u001b[0m \u001b[0mnp_3c\u001b[0m\u001b[1;33m=\u001b[0m\u001b[0mnp_3r1\u001b[0m\u001b[1;33m[\u001b[0m\u001b[0mnp_3r1\u001b[0m\u001b[1;33m.\u001b[0m\u001b[0m_merge\u001b[0m\u001b[1;33m==\u001b[0m\u001b[1;34m'both'\u001b[0m\u001b[1;33m]\u001b[0m\u001b[1;33m.\u001b[0m\u001b[0mcopy\u001b[0m\u001b[1;33m(\u001b[0m\u001b[1;33m)\u001b[0m\u001b[1;33m\u001b[0m\u001b[1;33m\u001b[0m\u001b[0m\n\u001b[0;32m      4\u001b[0m \u001b[1;33m\u001b[0m\u001b[0m\n\u001b[0;32m      5\u001b[0m \u001b[0mnp_1r1\u001b[0m\u001b[1;33m=\u001b[0m\u001b[0mnp_1r\u001b[0m\u001b[1;33m.\u001b[0m\u001b[0mmerge\u001b[0m\u001b[1;33m(\u001b[0m\u001b[0mnp_f_r\u001b[0m\u001b[1;33m,\u001b[0m \u001b[0mleft_on\u001b[0m\u001b[1;33m=\u001b[0m\u001b[1;34m'idnp'\u001b[0m\u001b[1;33m,\u001b[0m \u001b[0mright_on\u001b[0m\u001b[1;33m=\u001b[0m\u001b[1;34m'id_contpb'\u001b[0m\u001b[1;33m,\u001b[0m\u001b[0mhow\u001b[0m\u001b[1;33m=\u001b[0m\u001b[1;34m'outer'\u001b[0m\u001b[1;33m,\u001b[0m  \u001b[0mvalidate\u001b[0m\u001b[1;33m=\u001b[0m\u001b[1;34m'1:1'\u001b[0m\u001b[1;33m,\u001b[0m \u001b[0mindicator\u001b[0m\u001b[1;33m=\u001b[0m\u001b[1;32mTrue\u001b[0m\u001b[1;33m)\u001b[0m\u001b[1;33m\u001b[0m\u001b[1;33m\u001b[0m\u001b[0m\n",
      "\u001b[1;31mNameError\u001b[0m: name 'np_f_r' is not defined"
     ]
    }
   ],
   "source": [
    "### Cruzamos la BD originales con la base limpia para obtener los conti\n",
    "np_3r1=np_3r.merge(np_f_r[np_f_r.zona=='A'], left_on='idnp', right_on='id_contpb',how='outer',  validate='1:1', indicator=True)\n",
    "np_3c=np_3r1[np_3r1._merge=='both'].copy()\n",
    "\n",
    "np_1r1=np_1r.merge(np_f_r, left_on='idnp', right_on='id_contpb',how='outer',  validate='1:1', indicator=True)\n",
    "np_1c=np_1r1[np_1r1._merge=='both'].copy()\n",
    "\n",
    "np_15r1=np_15r.merge(np_f_r, left_on='idnp', right_on='id_contpb',how='outer',  validate='1:1', indicator=True)\n",
    "np_15c=np_15r1[np_15r1._merge=='both'].copy()"
   ]
  },
  {
   "cell_type": "code",
   "execution_count": 8,
   "id": "7d82df27",
   "metadata": {
    "id": "7d82df27"
   },
   "outputs": [
    {
     "ename": "NameError",
     "evalue": "name 'np_3c' is not defined",
     "output_type": "error",
     "traceback": [
      "\u001b[1;31m---------------------------------------------------------------------------\u001b[0m",
      "\u001b[1;31mNameError\u001b[0m                                 Traceback (most recent call last)",
      "\u001b[1;32mC:\\Users\\Public\\Documents\\Wondershare\\CreatorTemp/ipykernel_11632/2335684423.py\u001b[0m in \u001b[0;36m<module>\u001b[1;34m\u001b[0m\n\u001b[0;32m      1\u001b[0m \u001b[1;31m## Nos quedamos únicamente con las dos variables que nos interesan: el código del continuo poblado y su geometría para\u001b[0m\u001b[1;33m\u001b[0m\u001b[1;33m\u001b[0m\u001b[1;33m\u001b[0m\u001b[0m\n\u001b[0;32m      2\u001b[0m \u001b[1;31m## los geoprocesamientos\u001b[0m\u001b[1;33m\u001b[0m\u001b[1;33m\u001b[0m\u001b[1;33m\u001b[0m\u001b[0m\n\u001b[1;32m----> 3\u001b[1;33m \u001b[0mnp_3r\u001b[0m\u001b[1;33m=\u001b[0m\u001b[0mnp_3c\u001b[0m\u001b[1;33m[\u001b[0m\u001b[1;33m[\u001b[0m\u001b[1;34m'idnp'\u001b[0m\u001b[1;33m,\u001b[0m\u001b[1;34m'geometry'\u001b[0m\u001b[1;33m]\u001b[0m\u001b[1;33m]\u001b[0m\u001b[1;33m.\u001b[0m\u001b[0mcopy\u001b[0m\u001b[1;33m(\u001b[0m\u001b[1;33m)\u001b[0m\u001b[1;33m\u001b[0m\u001b[1;33m\u001b[0m\u001b[0m\n\u001b[0m\u001b[0;32m      4\u001b[0m \u001b[0mnp_1r\u001b[0m\u001b[1;33m=\u001b[0m\u001b[0mnp_1c\u001b[0m\u001b[1;33m[\u001b[0m\u001b[1;33m[\u001b[0m\u001b[1;34m'idnp'\u001b[0m\u001b[1;33m,\u001b[0m\u001b[1;34m'geometry'\u001b[0m\u001b[1;33m]\u001b[0m\u001b[1;33m]\u001b[0m\u001b[1;33m.\u001b[0m\u001b[0mcopy\u001b[0m\u001b[1;33m(\u001b[0m\u001b[1;33m)\u001b[0m\u001b[1;33m\u001b[0m\u001b[1;33m\u001b[0m\u001b[0m\n\u001b[0;32m      5\u001b[0m \u001b[0mnp_15r\u001b[0m\u001b[1;33m=\u001b[0m\u001b[0mnp_15c\u001b[0m\u001b[1;33m[\u001b[0m\u001b[1;33m[\u001b[0m\u001b[1;34m'idnp'\u001b[0m\u001b[1;33m,\u001b[0m\u001b[1;34m'geometry'\u001b[0m\u001b[1;33m]\u001b[0m\u001b[1;33m]\u001b[0m\u001b[1;33m.\u001b[0m\u001b[0mcopy\u001b[0m\u001b[1;33m(\u001b[0m\u001b[1;33m)\u001b[0m\u001b[1;33m\u001b[0m\u001b[1;33m\u001b[0m\u001b[0m\n",
      "\u001b[1;31mNameError\u001b[0m: name 'np_3c' is not defined"
     ]
    }
   ],
   "source": [
    "## Nos quedamos únicamente con las dos variables que nos interesan: el código del continuo poblado y su geometría para\n",
    "## los geoprocesamientos\n",
    "np_1r=np_1c[['idnp','geometry']].copy()\n",
    "np_2r=np_2c[['idnp','geometry']].copy()\n",
    "np_3r=np_3c[['idnp','geometry']].copy()"
   ]
  },
  {
   "cell_type": "markdown",
   "id": "1e8a6c4c",
   "metadata": {
    "id": "1e8a6c4c"
   },
   "source": [
    "## Geo procesamiento\n",
    "- p1: continuos poblados de 0.8 viv/ha que contienen continuos poblados de 3.9 viv ha.\n",
    "- p2: continuos poblados de 0.13 viv/ha que contienen continuos poblados de 3.9 viv ha.\n",
    "- p3: continuos poblados de 0.13 viv/ha que contienen continuos poblados de 0.8 viv ha."
   ]
  },
  {
   "cell_type": "markdown",
   "id": "900b26b7-d6b2-4732-958a-0e5fb5384ba3",
   "metadata": {
    "id": "900b26b7-d6b2-4732-958a-0e5fb5384ba3"
   },
   "source": [
    "##### Mediana densidad"
   ]
  },
  {
   "cell_type": "code",
   "execution_count": 7,
   "id": "b02d55da-a1e1-412a-8e9e-b68cf4de59e9",
   "metadata": {},
   "outputs": [
    {
     "name": "stderr",
     "output_type": "stream",
     "text": [
      "C:\\Users\\Guillermo\\anaconda3\\envs\\geo1\\lib\\site-packages\\IPython\\core\\interactiveshell.py:3364: FutureWarning: The `op` parameter is deprecated and will be removed in a future release. Please use the `predicate` parameter instead.\n",
      "  if (await self.run_code(code, result,  async_=asy)):\n"
     ]
    }
   ],
   "source": [
    "p1 = gpd.sjoin(np_2r, np_1r, how=\"left\", op='contains')"
   ]
  },
  {
   "cell_type": "code",
   "execution_count": 8,
   "id": "2b82a8a0-6daa-4008-9944-cef20ae1ee0d",
   "metadata": {},
   "outputs": [
    {
     "data": {
      "text/html": [
       "<div>\n",
       "<style scoped>\n",
       "    .dataframe tbody tr th:only-of-type {\n",
       "        vertical-align: middle;\n",
       "    }\n",
       "\n",
       "    .dataframe tbody tr th {\n",
       "        vertical-align: top;\n",
       "    }\n",
       "\n",
       "    .dataframe thead th {\n",
       "        text-align: right;\n",
       "    }\n",
       "</style>\n",
       "<table border=\"1\" class=\"dataframe\">\n",
       "  <thead>\n",
       "    <tr style=\"text-align: right;\">\n",
       "      <th></th>\n",
       "      <th>idnp_left</th>\n",
       "      <th>geometry</th>\n",
       "      <th>index_right</th>\n",
       "      <th>idnp_right</th>\n",
       "    </tr>\n",
       "  </thead>\n",
       "  <tbody>\n",
       "    <tr>\n",
       "      <th>87</th>\n",
       "      <td>8742.0</td>\n",
       "      <td>POLYGON ((306477.900 8626827.000, 306452.900 8...</td>\n",
       "      <td>20.0</td>\n",
       "      <td>2942.0</td>\n",
       "    </tr>\n",
       "    <tr>\n",
       "      <th>87</th>\n",
       "      <td>8742.0</td>\n",
       "      <td>POLYGON ((306477.900 8626827.000, 306452.900 8...</td>\n",
       "      <td>16.0</td>\n",
       "      <td>2694.0</td>\n",
       "    </tr>\n",
       "    <tr>\n",
       "      <th>87</th>\n",
       "      <td>8742.0</td>\n",
       "      <td>POLYGON ((306477.900 8626827.000, 306452.900 8...</td>\n",
       "      <td>15.0</td>\n",
       "      <td>2669.0</td>\n",
       "    </tr>\n",
       "    <tr>\n",
       "      <th>87</th>\n",
       "      <td>8742.0</td>\n",
       "      <td>POLYGON ((306477.900 8626827.000, 306452.900 8...</td>\n",
       "      <td>17.0</td>\n",
       "      <td>2705.0</td>\n",
       "    </tr>\n",
       "  </tbody>\n",
       "</table>\n",
       "</div>"
      ],
      "text/plain": [
       "    idnp_left                                           geometry  index_right  \\\n",
       "87     8742.0  POLYGON ((306477.900 8626827.000, 306452.900 8...         20.0   \n",
       "87     8742.0  POLYGON ((306477.900 8626827.000, 306452.900 8...         16.0   \n",
       "87     8742.0  POLYGON ((306477.900 8626827.000, 306452.900 8...         15.0   \n",
       "87     8742.0  POLYGON ((306477.900 8626827.000, 306452.900 8...         17.0   \n",
       "\n",
       "    idnp_right  \n",
       "87      2942.0  \n",
       "87      2694.0  \n",
       "87      2669.0  \n",
       "87      2705.0  "
      ]
     },
     "execution_count": 8,
     "metadata": {},
     "output_type": "execute_result"
    }
   ],
   "source": [
    "p1[p1.duplicated('idnp_left')]\n",
    "p1[p1.idnp_left==8742.0]"
   ]
  },
  {
   "cell_type": "code",
   "execution_count": 9,
   "id": "d09c6010-cc19-452c-96e2-1b2f545a3d88",
   "metadata": {
    "id": "d09c6010-cc19-452c-96e2-1b2f545a3d88"
   },
   "outputs": [
    {
     "name": "stderr",
     "output_type": "stream",
     "text": [
      "C:\\Users\\Guillermo\\anaconda3\\envs\\geo1\\lib\\site-packages\\IPython\\core\\interactiveshell.py:3364: FutureWarning: The `op` parameter is deprecated and will be removed in a future release. Please use the `predicate` parameter instead.\n",
      "  if (await self.run_code(code, result,  async_=asy)):\n"
     ]
    }
   ],
   "source": [
    "p1 = gpd.sjoin(np_1r, np_3r, how=\"left\", op='intersects')\n",
    "### Calculo de la número de continuos poblados y de las donnas\n",
    "p1['n1_3']=np.where(p1.index_right.notna(),1,0) ##toma valor 1 cuando encuentra algún polígono de densidad 3 en el polígono de densidad 1\n",
    "p1=p1.groupby('idnp_left').sum().reset_index().sort_values('n1_3') ## se suma el número de continuos de densidad 3 en el polígono de densidad 1\n",
    "p1['dum1_3']=np.where(p1.n1_3>=1,1,0) ## Creamos una variable dummy 1 sí continene un continuo poblado de densidad 3; 0, no contiene un continuo poblado de densidad 3\n",
    "\n",
    "## Nos quedamos con las variables que nos interesan \n",
    "p1=p1[['idnp_left','n1_3','dum1_3']].copy()"
   ]
  },
  {
   "cell_type": "markdown",
   "id": "4efdd969-6f76-4070-a27d-08e27d1df368",
   "metadata": {
    "id": "4efdd969-6f76-4070-a27d-08e27d1df368"
   },
   "source": [
    "##### Baja densidad"
   ]
  },
  {
   "cell_type": "code",
   "execution_count": 10,
   "id": "b25474ab-2937-46d0-b44a-6c138673df69",
   "metadata": {},
   "outputs": [
    {
     "name": "stderr",
     "output_type": "stream",
     "text": [
      "C:\\Users\\Guillermo\\anaconda3\\envs\\geo1\\lib\\site-packages\\IPython\\core\\interactiveshell.py:3364: FutureWarning: The `op` parameter is deprecated and will be removed in a future release. Please use the `predicate` parameter instead.\n",
      "  if (await self.run_code(code, result,  async_=asy)):\n"
     ]
    }
   ],
   "source": [
    "##Baja densidad con alta densidad\n",
    "p2 = gpd.sjoin(np_15r, np_3r, how=\"left\", op='intersects')\n",
    "### Calculo de la número de continuos poblados y de las donnas\n",
    "p2['n15_3']=np.where(p2.index_right.notna(),1,0)\n",
    "p2=p2.groupby('idnp_left').sum().reset_index().sort_values('n15_3')\n",
    "p2['dum15_3']=np.where(p2.n15_3>=1,1,0)\n",
    "p2=p2[['idnp_left','n15_3','dum15_3']].copy()"
   ]
  },
  {
   "cell_type": "code",
   "execution_count": 11,
   "id": "757f783c-3d03-4313-b849-e2e47d9e070f",
   "metadata": {},
   "outputs": [],
   "source": [
    "##Baja densidad con media densidad\n",
    "# p3 = gpd.sjoin(np_15r, np_3r, how=\"left\", op='intersects')\n",
    "# p3[p3.idnp_left==13336.0]"
   ]
  },
  {
   "cell_type": "code",
   "execution_count": 12,
   "id": "6d6b8f4e",
   "metadata": {
    "id": "6d6b8f4e"
   },
   "outputs": [
    {
     "name": "stderr",
     "output_type": "stream",
     "text": [
      "C:\\Users\\Guillermo\\anaconda3\\envs\\geo1\\lib\\site-packages\\IPython\\core\\interactiveshell.py:3364: FutureWarning: The `op` parameter is deprecated and will be removed in a future release. Please use the `predicate` parameter instead.\n",
      "  if (await self.run_code(code, result,  async_=asy)):\n"
     ]
    }
   ],
   "source": [
    "##Baja densidad con media densidad\n",
    "p3 = gpd.sjoin(np_15r, np_1r, how=\"left\", op='intersects')\n",
    "## Calculo de la número de continuos poblados y de las donnas\n",
    "p3['n15_1']=np.where(p3.index_right.notna(),1,0)\n",
    "p3=p3.groupby('idnp_left').sum().reset_index().sort_values('n15_1')\n",
    "p3['dum15_1']=np.where(p3.n15_1>=1,1,0)\n",
    "p3=p3[['idnp_left','n15_1','dum15_1']].copy()"
   ]
  },
  {
   "cell_type": "markdown",
   "id": "b09953ec",
   "metadata": {
    "id": "b09953ec"
   },
   "source": [
    "##### Juntamos las posibilidades de continuos poblados de baja densidad y creamos una tipología"
   ]
  },
  {
   "cell_type": "code",
   "execution_count": 13,
   "id": "0b7c7edc",
   "metadata": {
    "id": "0b7c7edc"
   },
   "outputs": [],
   "source": [
    "p15_f=p3.merge(p2, on='idnp_left', how='outer', validate='1:1')"
   ]
  },
  {
   "cell_type": "code",
   "execution_count": 25,
   "id": "b5058bc9",
   "metadata": {
    "id": "b5058bc9"
   },
   "outputs": [],
   "source": [
    "## Creamos la tipología de continuos poblados\n",
    "p15_f['tipologia']='B0'\n",
    "p15_f['tipologia']=np.where((p15_f.dum15_1==1)&(p15_f.n15_1==1),'B1',p15_f.tipologia)\n",
    "p15_f['tipologia']=np.where((p15_f.dum15_1==1)&(p15_f.n15_1>1),'B2',p15_f.tipologia)\n",
    "p15_f['tipologia']=np.where((p15_f.dum15_3==1)&(p15_f.n15_3==1),'C1',p15_f.tipologia)\n",
    "p15_f['tipologia']=np.where((p15_f.dum15_3==1)&(p15_f.n15_3>1),'C2',p15_f.tipologia)\n",
    "\n",
    "p15_f['tipologia']=np.where((p15_f.dum15_1==1)&(p15_f.n15_1==1)&(p15_f.dum15_3==1)&(p15_f.n15_3==1),'D1',p15_f.tipologia)\n",
    "p15_f['tipologia']=np.where((p15_f.dum15_1==1)&(p15_f.n15_1==1)&(p15_f.dum15_3==1)&(p15_f.n15_3>1),'D2',p15_f.tipologia)\n",
    "p15_f['tipologia']=np.where((p15_f.dum15_1==1)&(p15_f.n15_1>1)&(p15_f.dum15_3==1)&(p15_f.n15_3==1),'D3',p15_f.tipologia)\n",
    "p15_f['tipologia']=np.where((p15_f.dum15_1==1)&(p15_f.n15_1>1)&(p15_f.dum15_3==1)&(p15_f.n15_3>1),'D4',p15_f.tipologia)\n",
    "\n",
    "p1['tipologia']='E0'\n",
    "p1['tipologia']=np.where((p1.dum1_3==1)&(p1.n1_3==1),'E1',p1.tipologia)\n",
    "p1['tipologia']=np.where((p1.dum1_3==1)&(p1.n1_3>1),'E2',p1.tipologia)"
   ]
  },
  {
   "cell_type": "code",
   "execution_count": 26,
   "id": "a0af487c-d207-4afd-a86d-220a50c3070c",
   "metadata": {},
   "outputs": [
    {
     "data": {
      "text/html": [
       "<div>\n",
       "<style scoped>\n",
       "    .dataframe tbody tr th:only-of-type {\n",
       "        vertical-align: middle;\n",
       "    }\n",
       "\n",
       "    .dataframe tbody tr th {\n",
       "        vertical-align: top;\n",
       "    }\n",
       "\n",
       "    .dataframe thead th {\n",
       "        text-align: right;\n",
       "    }\n",
       "</style>\n",
       "<table border=\"1\" class=\"dataframe\">\n",
       "  <thead>\n",
       "    <tr style=\"text-align: right;\">\n",
       "      <th></th>\n",
       "      <th>idnp_left</th>\n",
       "      <th>n15_1</th>\n",
       "      <th>dum15_1</th>\n",
       "      <th>n15_3</th>\n",
       "      <th>dum15_3</th>\n",
       "      <th>tipologia</th>\n",
       "    </tr>\n",
       "  </thead>\n",
       "  <tbody>\n",
       "    <tr>\n",
       "      <th>51794</th>\n",
       "      <td>13336.0</td>\n",
       "      <td>1</td>\n",
       "      <td>1</td>\n",
       "      <td>1</td>\n",
       "      <td>1</td>\n",
       "      <td>D1</td>\n",
       "    </tr>\n",
       "  </tbody>\n",
       "</table>\n",
       "</div>"
      ],
      "text/plain": [
       "       idnp_left  n15_1  dum15_1  n15_3  dum15_3 tipologia\n",
       "51794    13336.0      1        1      1        1        D1"
      ]
     },
     "execution_count": 26,
     "metadata": {},
     "output_type": "execute_result"
    }
   ],
   "source": [
    "p15_f[p15_f.idnp_left==13336.0]"
   ]
  },
  {
   "cell_type": "markdown",
   "id": "d5ad6ef2",
   "metadata": {
    "id": "d5ad6ef2"
   },
   "source": [
    "##### Todas los continuos poblados de baja densidad con la variable de tipología\n",
    "Obj: Agregar los continuos poblados de Media densidad no incluidos y agregar los continuos poblados de Alta densidad no incluidos\n"
   ]
  },
  {
   "cell_type": "code",
   "execution_count": 27,
   "id": "5ee1ef53",
   "metadata": {
    "id": "5ee1ef53"
   },
   "outputs": [],
   "source": [
    "## Todos los NP de baja densidad con la variable de tipología \n",
    "np_15r2=np_15r.merge(p15_f, left_on='idnp', right_on='idnp_left',\n",
    "                     how='outer', validate='1:1', indicator=True)[['idnp_left','geometry','n15_1','dum15_1','n15_3','dum15_3','tipologia']] ##match perfecto\n",
    "np_1r2=np_1r.merge(p1, left_on='idnp', right_on='idnp_left',\n",
    "                   how='outer', validate='1:1', indicator=True)[['idnp_left','geometry','n1_3','dum1_3','tipologia']] ##match perfecto"
   ]
  },
  {
   "cell_type": "markdown",
   "id": "b06391ce",
   "metadata": {
    "id": "b06391ce"
   },
   "source": [
    "Hacemos un geoprocesamiento para identificar a los continuos poblados de MEDIANA densidad que se encuentran incluidos en la BD de BAJA densidad,\n",
    "luego recodificamos las variable \"tipología\""
   ]
  },
  {
   "cell_type": "code",
   "execution_count": 33,
   "id": "3bae0689-6965-44b6-936c-4d22c63dcd4e",
   "metadata": {},
   "outputs": [
    {
     "data": {
      "text/html": [
       "<div>\n",
       "<style scoped>\n",
       "    .dataframe tbody tr th:only-of-type {\n",
       "        vertical-align: middle;\n",
       "    }\n",
       "\n",
       "    .dataframe tbody tr th {\n",
       "        vertical-align: top;\n",
       "    }\n",
       "\n",
       "    .dataframe thead th {\n",
       "        text-align: right;\n",
       "    }\n",
       "</style>\n",
       "<table border=\"1\" class=\"dataframe\">\n",
       "  <thead>\n",
       "    <tr style=\"text-align: right;\">\n",
       "      <th></th>\n",
       "      <th>index_left</th>\n",
       "      <th>tipologia_left</th>\n",
       "      <th>idnp_left</th>\n",
       "      <th>geometry</th>\n",
       "      <th>n1_3</th>\n",
       "      <th>dum1_3</th>\n",
       "      <th>tipologia_right</th>\n",
       "    </tr>\n",
       "  </thead>\n",
       "  <tbody>\n",
       "    <tr>\n",
       "      <th>0</th>\n",
       "      <td>101</td>\n",
       "      <td>D3</td>\n",
       "      <td>48.0</td>\n",
       "      <td>POLYGON ((1000427.900 7992427.000, 1000402.900...</td>\n",
       "      <td>1</td>\n",
       "      <td>1</td>\n",
       "      <td>E1</td>\n",
       "    </tr>\n",
       "    <tr>\n",
       "      <th>1</th>\n",
       "      <td>101</td>\n",
       "      <td>D3</td>\n",
       "      <td>51.0</td>\n",
       "      <td>POLYGON ((998477.900 7995427.000, 998452.900 7...</td>\n",
       "      <td>0</td>\n",
       "      <td>0</td>\n",
       "      <td>E0</td>\n",
       "    </tr>\n",
       "    <tr>\n",
       "      <th>2</th>\n",
       "      <td>204</td>\n",
       "      <td>D1</td>\n",
       "      <td>97.0</td>\n",
       "      <td>POLYGON ((893027.900 8043127.000, 893002.900 8...</td>\n",
       "      <td>1</td>\n",
       "      <td>1</td>\n",
       "      <td>E1</td>\n",
       "    </tr>\n",
       "    <tr>\n",
       "      <th>3</th>\n",
       "      <td>452</td>\n",
       "      <td>D1</td>\n",
       "      <td>199.0</td>\n",
       "      <td>POLYGON ((931527.900 8091777.000, 931502.900 8...</td>\n",
       "      <td>1</td>\n",
       "      <td>1</td>\n",
       "      <td>E1</td>\n",
       "    </tr>\n",
       "    <tr>\n",
       "      <th>4</th>\n",
       "      <td>524</td>\n",
       "      <td>B1</td>\n",
       "      <td>205.0</td>\n",
       "      <td>POLYGON ((841127.900 8097927.000, 841102.900 8...</td>\n",
       "      <td>0</td>\n",
       "      <td>0</td>\n",
       "      <td>E0</td>\n",
       "    </tr>\n",
       "    <tr>\n",
       "      <th>...</th>\n",
       "      <td>...</td>\n",
       "      <td>...</td>\n",
       "      <td>...</td>\n",
       "      <td>...</td>\n",
       "      <td>...</td>\n",
       "      <td>...</td>\n",
       "      <td>...</td>\n",
       "    </tr>\n",
       "    <tr>\n",
       "      <th>289</th>\n",
       "      <td>51075</td>\n",
       "      <td>B1</td>\n",
       "      <td>25052.0</td>\n",
       "      <td>POLYGON ((-133822.100 9589577.000, -133847.100...</td>\n",
       "      <td>0</td>\n",
       "      <td>0</td>\n",
       "      <td>E0</td>\n",
       "    </tr>\n",
       "    <tr>\n",
       "      <th>290</th>\n",
       "      <td>51151</td>\n",
       "      <td>B1</td>\n",
       "      <td>25095.0</td>\n",
       "      <td>POLYGON ((-124022.100 9594777.000, -124047.100...</td>\n",
       "      <td>0</td>\n",
       "      <td>0</td>\n",
       "      <td>E0</td>\n",
       "    </tr>\n",
       "    <tr>\n",
       "      <th>291</th>\n",
       "      <td>51158</td>\n",
       "      <td>B1</td>\n",
       "      <td>25102.0</td>\n",
       "      <td>POLYGON ((-107422.100 9595877.000, -107447.100...</td>\n",
       "      <td>0</td>\n",
       "      <td>0</td>\n",
       "      <td>E0</td>\n",
       "    </tr>\n",
       "    <tr>\n",
       "      <th>292</th>\n",
       "      <td>51201</td>\n",
       "      <td>D1</td>\n",
       "      <td>25143.0</td>\n",
       "      <td>POLYGON ((-106322.100 9600827.000, -106347.100...</td>\n",
       "      <td>1</td>\n",
       "      <td>1</td>\n",
       "      <td>E1</td>\n",
       "    </tr>\n",
       "    <tr>\n",
       "      <th>293</th>\n",
       "      <td>51286</td>\n",
       "      <td>B1</td>\n",
       "      <td>25183.0</td>\n",
       "      <td>POLYGON ((-87322.100 9609877.000, -87347.100 9...</td>\n",
       "      <td>0</td>\n",
       "      <td>0</td>\n",
       "      <td>E0</td>\n",
       "    </tr>\n",
       "  </tbody>\n",
       "</table>\n",
       "<p>294 rows × 7 columns</p>\n",
       "</div>"
      ],
      "text/plain": [
       "     index_left tipologia_left  idnp_left  \\\n",
       "0           101             D3       48.0   \n",
       "1           101             D3       51.0   \n",
       "2           204             D1       97.0   \n",
       "3           452             D1      199.0   \n",
       "4           524             B1      205.0   \n",
       "..          ...            ...        ...   \n",
       "289       51075             B1    25052.0   \n",
       "290       51151             B1    25095.0   \n",
       "291       51158             B1    25102.0   \n",
       "292       51201             D1    25143.0   \n",
       "293       51286             B1    25183.0   \n",
       "\n",
       "                                              geometry  n1_3  dum1_3  \\\n",
       "0    POLYGON ((1000427.900 7992427.000, 1000402.900...     1       1   \n",
       "1    POLYGON ((998477.900 7995427.000, 998452.900 7...     0       0   \n",
       "2    POLYGON ((893027.900 8043127.000, 893002.900 8...     1       1   \n",
       "3    POLYGON ((931527.900 8091777.000, 931502.900 8...     1       1   \n",
       "4    POLYGON ((841127.900 8097927.000, 841102.900 8...     0       0   \n",
       "..                                                 ...   ...     ...   \n",
       "289  POLYGON ((-133822.100 9589577.000, -133847.100...     0       0   \n",
       "290  POLYGON ((-124022.100 9594777.000, -124047.100...     0       0   \n",
       "291  POLYGON ((-107422.100 9595877.000, -107447.100...     0       0   \n",
       "292  POLYGON ((-106322.100 9600827.000, -106347.100...     1       1   \n",
       "293  POLYGON ((-87322.100 9609877.000, -87347.100 9...     0       0   \n",
       "\n",
       "    tipologia_right  \n",
       "0                E1  \n",
       "1                E0  \n",
       "2                E1  \n",
       "3                E1  \n",
       "4                E0  \n",
       "..              ...  \n",
       "289              E0  \n",
       "290              E0  \n",
       "291              E0  \n",
       "292              E1  \n",
       "293              E0  \n",
       "\n",
       "[294 rows x 7 columns]"
      ]
     },
     "execution_count": 33,
     "metadata": {},
     "output_type": "execute_result"
    }
   ],
   "source": [
    "np_15r3[np_15r3.index_left.notna()]"
   ]
  },
  {
   "cell_type": "code",
   "execution_count": 34,
   "id": "f98f2a4b",
   "metadata": {
    "id": "f98f2a4b"
   },
   "outputs": [
    {
     "name": "stderr",
     "output_type": "stream",
     "text": [
      "C:\\Users\\Guillermo\\anaconda3\\envs\\geo1\\lib\\site-packages\\IPython\\core\\interactiveshell.py:3364: FutureWarning: The `op` parameter is deprecated and will be removed in a future release. Please use the `predicate` parameter instead.\n",
      "  if (await self.run_code(code, result,  async_=asy)):\n",
      "C:\\Users\\Guillermo\\anaconda3\\envs\\geo1\\lib\\site-packages\\IPython\\core\\interactiveshell.py:3364: FutureWarning: The `op` parameter is deprecated and will be removed in a future release. Please use the `predicate` parameter instead.\n",
      "  if (await self.run_code(code, result,  async_=asy)):\n"
     ]
    }
   ],
   "source": [
    "np_15r3=gpd.sjoin(np_15r2[['tipologia','geometry']], np_1r2, how=\"right\", op='intersects')\n",
    "np_15r3['tipologia_left']=np.where(np_15r3.index_left.isna(),np_15r3.tipologia_right, np_15r3.tipologia_left)\n",
    "np_15r3=np_15r3.reset_index()[['idnp_left','geometry','n1_3','dum1_3','tipologia_left']].copy()\n",
    "np_15r3.rename({'tipologia_left':'tipologia'},axis=1, inplace=True)\n",
    "\n",
    "g1=gpd.sjoin(np_15r2[['tipologia','geometry']], np_3r, how='right', op='intersects').reset_index()\n",
    "g1['tipologia']=np.where(g1.index_left.isna(),'A0',g1.tipologia)\n",
    "g1=g1[['idnp','geometry','tipologia']].copy()\n",
    "g1.rename({'idnp':'idnp_left'},axis=1, inplace=True)\n"
   ]
  },
  {
   "cell_type": "markdown",
   "id": "84b42822",
   "metadata": {
    "id": "84b42822"
   },
   "source": [
    "##### Juntamos la BD de BAJA, MEDIA y ALTA densidad "
   ]
  },
  {
   "cell_type": "code",
   "execution_count": 35,
   "id": "9b47ad76",
   "metadata": {
    "id": "9b47ad76"
   },
   "outputs": [],
   "source": [
    "np_f1=np_15r2.append(np_15r3)\n",
    "#np_ft=np_f1.append(g1)"
   ]
  },
  {
   "cell_type": "code",
   "execution_count": 36,
   "id": "747405a8-1df5-4668-8b66-dc918c7e1622",
   "metadata": {},
   "outputs": [],
   "source": [
    "##ALTA Y MEDIA DENSIDAD\n",
    "np_f1=g1.append(np_15r3)\n",
    "np_f1=np_f1[['idnp_left','tipologia']].copy()\n",
    "##grabamos\n",
    "np_f1.to_excel(o+'\\\\a_m_tipologia.xlsx', index=False)\n",
    "\n",
    "##BAJA DENSIDAD\n",
    "np_f2=np_15r2\n",
    "np_f2=np_f2[['idnp_left','tipologia']].copy()\n",
    "##grabamos\n",
    "np_f2.to_excel(o+'\\\\baja_tipologia.xlsx', index=False)"
   ]
  },
  {
   "cell_type": "code",
   "execution_count": 37,
   "id": "386d91ac-8eb6-49e8-b7f6-2eee71c2302d",
   "metadata": {},
   "outputs": [
    {
     "data": {
      "text/plain": [
       "tipologia\n",
       "B0    51644\n",
       "B1      208\n",
       "B2       11\n",
       "D1       27\n",
       "D3       11\n",
       "D4        2\n",
       "dtype: int64"
      ]
     },
     "execution_count": 37,
     "metadata": {},
     "output_type": "execute_result"
    }
   ],
   "source": [
    "np_f2.groupby('tipologia').size()"
   ]
  },
  {
   "cell_type": "code",
   "execution_count": 38,
   "id": "f756463b-b9cc-4841-8071-2f2dd8508f51",
   "metadata": {},
   "outputs": [
    {
     "data": {
      "text/plain": [
       "tipologia\n",
       "B1    208\n",
       "B2     29\n",
       "D1     54\n",
       "D3     36\n",
       "D4     12\n",
       "dtype: int64"
      ]
     },
     "execution_count": 38,
     "metadata": {},
     "output_type": "execute_result"
    }
   ],
   "source": [
    "np_f1.groupby('tipologia').size()"
   ]
  },
  {
   "cell_type": "code",
   "execution_count": null,
   "id": "2c1e930b-ab74-4d74-abf1-ee844004f74e",
   "metadata": {},
   "outputs": [],
   "source": []
  }
 ],
 "metadata": {
  "colab": {
   "collapsed_sections": [],
   "name": "03. Tipología de continuos poblados.ipynb",
   "provenance": []
  },
  "kernelspec": {
   "display_name": "Python 3 (ipykernel)",
   "language": "python",
   "name": "python3"
  },
  "language_info": {
   "codemirror_mode": {
    "name": "ipython",
    "version": 3
   },
   "file_extension": ".py",
   "mimetype": "text/x-python",
   "name": "python",
   "nbconvert_exporter": "python",
   "pygments_lexer": "ipython3",
   "version": "3.7.10"
  }
 },
 "nbformat": 4,
 "nbformat_minor": 5
}
